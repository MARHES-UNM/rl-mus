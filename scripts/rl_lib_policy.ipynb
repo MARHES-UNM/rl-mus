{
 "cells": [
  {
   "cell_type": "code",
   "execution_count": 14,
   "metadata": {},
   "outputs": [],
   "source": [
    "import sys\n",
    "import os\n",
    "import ray\n",
    "from ray.rllib.algorithms.algorithm import Algorithm\n",
    "import matplotlib.pyplot as plt\n",
    "from ray import tune\n",
    "import pandas as pd\n",
    "sys.path.insert(0, os.path.abspath(\"..\"))\n",
    "\n",
    "\n",
    "%matplotlib inline\n"
   ]
  },
  {
   "cell_type": "code",
   "execution_count": 15,
   "metadata": {},
   "outputs": [],
   "source": [
    "from uav_sim.envs import UavSim"
   ]
  },
  {
   "cell_type": "code",
   "execution_count": 18,
   "metadata": {},
   "outputs": [
    {
     "name": "stderr",
     "output_type": "stream",
     "text": [
      "2025-04-04 16:53:54,831\tWARNING algorithm_config.py:2558 -- Setting `exploration_config={}` because you set `_enable_rl_module_api=True`. When RLModule API are enabled, exploration_config can not be set. If you want to implement custom exploration behaviour, please modify the `forward_exploration` method of the RLModule at hand. On configs that have a default exploration config, this must be done with `config.exploration_config={}`.\n",
      "2025-04-04 16:53:56,689\tWARNING deprecation.py:50 -- DeprecationWarning: `ValueNetworkMixin` has been deprecated. This will raise an error in the future!\n",
      "2025-04-04 16:53:56,690\tWARNING deprecation.py:50 -- DeprecationWarning: `LearningRateSchedule` has been deprecated. This will raise an error in the future!\n",
      "2025-04-04 16:53:56,690\tWARNING deprecation.py:50 -- DeprecationWarning: `EntropyCoeffSchedule` has been deprecated. This will raise an error in the future!\n",
      "2025-04-04 16:53:56,691\tWARNING deprecation.py:50 -- DeprecationWarning: `KLCoeffMixin` has been deprecated. This will raise an error in the future!\n"
     ]
    }
   ],
   "source": [
    "tune.register_env('multi-uav-sim-v0', lambda config: UavSim(env_config=config))\n",
    "use_policy = True\n",
    "from ray.rllib.policy.policy import Policy\n",
    "from ray.rllib.models.preprocessors import get_preprocessor\n",
    "\n",
    "algo = Policy.from_checkpoint('/workspaces/multi-uav-sim/ray_results/train/PPO/train_2/baseline/baseline/stp_pen_1.5/checkpoint_000457/policies/shared_policy')\n"
   ]
  },
  {
   "cell_type": "code",
   "execution_count": 19,
   "metadata": {},
   "outputs": [
    {
     "data": {
      "text/plain": [
       "PPOTorchRLModule(\n",
       "  (encoder): TorchActorCriticEncoder(\n",
       "    (actor_encoder): TorchMLPEncoder(\n",
       "      (net): TorchMLP(\n",
       "        (mlp): Sequential(\n",
       "          (0): Linear(in_features=55, out_features=256, bias=True)\n",
       "          (1): Tanh()\n",
       "          (2): Linear(in_features=256, out_features=256, bias=True)\n",
       "          (3): Tanh()\n",
       "        )\n",
       "      )\n",
       "    )\n",
       "    (critic_encoder): TorchMLPEncoder(\n",
       "      (net): TorchMLP(\n",
       "        (mlp): Sequential(\n",
       "          (0): Linear(in_features=55, out_features=256, bias=True)\n",
       "          (1): Tanh()\n",
       "          (2): Linear(in_features=256, out_features=256, bias=True)\n",
       "          (3): Tanh()\n",
       "        )\n",
       "      )\n",
       "    )\n",
       "  )\n",
       "  (pi): TorchMLPHead(\n",
       "    (net): TorchMLP(\n",
       "      (mlp): Sequential(\n",
       "        (0): Linear(in_features=256, out_features=6, bias=True)\n",
       "      )\n",
       "    )\n",
       "  )\n",
       "  (vf): TorchMLPHead(\n",
       "    (net): TorchMLP(\n",
       "      (mlp): Sequential(\n",
       "        (0): Linear(in_features=256, out_features=1, bias=True)\n",
       "      )\n",
       "    )\n",
       "  )\n",
       ")"
      ]
     },
     "execution_count": 19,
     "metadata": {},
     "output_type": "execute_result"
    }
   ],
   "source": [
    "algo.model\n"
   ]
  },
  {
   "cell_type": "code",
   "execution_count": null,
   "metadata": {},
   "outputs": [],
   "source": [
    "shared_policy = algo.get_policy(\"shared_policy\")"
   ]
  },
  {
   "cell_type": "code",
   "execution_count": null,
   "metadata": {},
   "outputs": [],
   "source": [
    "shared_policy.model\n"
   ]
  },
  {
   "cell_type": "code",
   "execution_count": null,
   "metadata": {},
   "outputs": [],
   "source": [
    "obj  = pd.read_pickle('/home/prime/Documents/workspace/rl_multi_uav_sim/results/PPO/multi-uav-sim-v0_2023-10-28-22-40_df49a29/low_dt_thresh/PPO_multi-uav-sim-v0_91292_00000_0_beta=0.0100,d_thresh=0.0100,obstacle_collision_weight=1.0000,uav_collision_weight=1.0000,use_sa_2023-10-28_22-40-48/error.pkl')"
   ]
  },
  {
   "cell_type": "code",
   "execution_count": null,
   "metadata": {},
   "outputs": [],
   "source": [
    "obj"
   ]
  },
  {
   "cell_type": "code",
   "execution_count": null,
   "metadata": {},
   "outputs": [],
   "source": [
    "type(obj)"
   ]
  },
  {
   "cell_type": "code",
   "execution_count": null,
   "metadata": {},
   "outputs": [],
   "source": [
    "env = UavSim()\n",
    "obs, info = env.reset()\n",
    "\n",
    "# RLlib uses preprocessors to implement transforms such as one-hot encoding\n",
    "# and flattening of tuple and dict observations.\n",
    "from networkx import convert_node_labels_to_integers\n",
    "from ray.rllib.models.preprocessors import get_preprocessor\n",
    "from ray.rllib.utils.spaces.space_utils import flatten_space\n",
    "from ray.rllib.utils.numpy import convert_to_numpy\n",
    "\n",
    "prep = get_preprocessor(flatten_space(env.observation_space)[0])\n",
    "print(prep)\n",
    "prep = prep(env.observation_space[0])\n",
    "# print(obs.shape)\n",
    "print(obs)\n",
    "# print(convert_to_numpy(obs[0]))\n",
    "print(prep.transform(obs[0]).shape)"
   ]
  },
  {
   "cell_type": "code",
   "execution_count": null,
   "metadata": {},
   "outputs": [],
   "source": [
    "logits, _ = shared_policy.model({\"obs\": obs[0]})\n"
   ]
  },
  {
   "cell_type": "code",
   "execution_count": null,
   "metadata": {},
   "outputs": [],
   "source": []
  }
 ],
 "metadata": {
  "kernelspec": {
   "display_name": "Python 3",
   "language": "python",
   "name": "python3"
  },
  "language_info": {
   "codemirror_mode": {
    "name": "ipython",
    "version": 3
   },
   "file_extension": ".py",
   "mimetype": "text/x-python",
   "name": "python",
   "nbconvert_exporter": "python",
   "pygments_lexer": "ipython3",
   "version": "3.9.21"
  }
 },
 "nbformat": 4,
 "nbformat_minor": 2
}
