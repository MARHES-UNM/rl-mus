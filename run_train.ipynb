{
 "cells": [
  {
   "cell_type": "markdown",
   "id": "13c0df36",
   "metadata": {},
   "source": [
    "<a href=\"https://colab.research.google.com/github/jepierre/multi-uav-sim/blob/fixing_rl_env/run_train.ipynb\" target=\"_parent\"><img src=\"https://colab.research.google.com/assets/colab-badge.svg\" alt=\"Open In Colab\"/></a>"
   ]
  },
  {
   "cell_type": "code",
   "execution_count": 1,
   "id": "8efce8c3",
   "metadata": {},
   "outputs": [],
   "source": [
    "import matplotlib.pyplot as plt\n",
    "import matplotlib\n",
    "%matplotlib inline"
   ]
  },
  {
   "cell_type": "code",
   "execution_count": null,
   "id": "c5137877",
   "metadata": {},
   "outputs": [
    {
     "name": "stdout",
     "output_type": "stream",
     "text": [
      "2025-05-04 11:36:24,459\tWARNING deprecation.py:50 -- DeprecationWarning: `DirectStepOptimizer` has been deprecated. This will raise an error in the future!\n",
      "2025-05-04 11:36:26 - __main__ - DEBUG - <run_experiment:main:728> - config: {'env_config': {'beta_vel': 0.1, 'beta': 0.1, 'crash_penalty': 10, 'early_done': False, 'max_dt_go_error': 0.1, 'max_dt_std': 0.1, 'max_num_obstacles': 4, 'max_start_dist': 3.9, 'max_time_penalty': 5, 'num_obstacles': 4, 'num_uavs': 4, 'obstacle_collision_weight': 1, 'obstacle_radius': 0.25, 'render': False, 'sa_reward': 50, 'seed': 123, 'start_level': 1, 'stp_penalty': 1, 't_go_error_func': 'mean', 't_go_max': 1.0, 't_go_n': 0.1, 'tgt_reward': 50, 'time_final': 8.0, 'uav_collision_weight': 1, 'uav_type': 'UavBase', 'use_safe_action': False, 'use_virtual_leader': False}, 'exp_config': {'run': 'PPO', 'checkpoint': None, 'safe_action_type': None, 'framework': 'torch', 'training': {'lr': 5e-05, 'use_gae': True, 'use_critic': True, 'lambda_': 0.95, 'gamma': 0.99}}, 'safety_layer_cfg': {'batch_size': 256, 'checkpoint_dir': None, 'device': 'cpu', 'episode_length': 400, 'eps': 0.01, 'eps_action': 0.00019, 'eps_dang': 0.05, 'eps_deriv': 4.2737e-05, 'eps_deriv_dang': 0.08, 'eps_deriv_mid': 0.03, 'eps_deriv_safe': 0.0, 'eps_safe': 0.001, 'loss_action_weight': 0.08, 'lr': 0.0005, 'n_hidden': 32, 'num_epochs': 200, 'num_eval_steps': 1500, 'num_iter_per_epoch': 1, 'num_training_steps': 6000, 'replay_buffer_size': 1000000, 'report_tune': False, 'seed': 123, 'tune_run': False, 'use_rl': False, 'weight_decay': 1e-05}, 'env_name': 'multi-uav-ren-v0'}\n",
      "******************seed: 1\n",
      "/home/dev/.local/lib/python3.11/site-packages/gymnasium/spaces/box.py:127: UserWarning: \u001b[33mWARN: Box bound precision lowered by casting to float32\u001b[0m\n",
      "  logger.warn(f\"Box bound precision lowered by casting to {self.dtype}\")\n",
      "2025-05-04 11:36:26,659\tWARNING algorithm_config.py:2558 -- Setting `exploration_config={}` because you set `_enable_rl_module_api=True`. When RLModule API are enabled, exploration_config can not be set. If you want to implement custom exploration behaviour, please modify the `forward_exploration` method of the RLModule at hand. On configs that have a default exploration config, this must be done with `config.exploration_config={}`.\n",
      "2025-05-04 11:36:27,241\tWARNING deprecation.py:50 -- DeprecationWarning: `ValueNetworkMixin` has been deprecated. This will raise an error in the future!\n",
      "2025-05-04 11:36:27,241\tWARNING deprecation.py:50 -- DeprecationWarning: `LearningRateSchedule` has been deprecated. This will raise an error in the future!\n",
      "2025-05-04 11:36:27,241\tWARNING deprecation.py:50 -- DeprecationWarning: `EntropyCoeffSchedule` has been deprecated. This will raise an error in the future!\n",
      "2025-05-04 11:36:27,241\tWARNING deprecation.py:50 -- DeprecationWarning: `KLCoeffMixin` has been deprecated. This will raise an error in the future!\n",
      "/workspaces/multi-uav-sim/run_experiment.py:400: DeprecationWarning: `product` is deprecated as of NumPy 1.25.0, and will be removed in NumPy 2.0. Please use `prod` instead.\n",
      "  prep = get_preprocessor(env_obs_space)(env_obs_space)\n",
      "2025-05-04 11:36:27 - __main__ - DEBUG - <run_experiment:experiment:466> - running experiment\n",
      "^C\n"
     ]
    },
    {
     "ename": "",
     "evalue": "",
     "output_type": "error",
     "traceback": [
      "\u001b[1;31mThe Kernel crashed while executing code in the current cell or a previous cell. \n",
      "\u001b[1;31mPlease review the code in the cell(s) to identify a possible cause of the failure. \n",
      "\u001b[1;31mClick <a href='https://aka.ms/vscodeJupyterKernelCrash'>here</a> for more info. \n",
      "\u001b[1;31mView Jupyter <a href='command:jupyter.viewOutput'>log</a> for further details."
     ]
    }
   ],
   "source": [
    "    # --run cc \\\n",
    "    # --early_done \\\n",
    "!python run_experiment.py \\\n",
    "    --tf 8 \\\n",
    "    --run PPO \\\n",
    "    test \\\n",
    "    --seed \"1\" \\\n",
    "    --max_num_episodes 10 \\\n",
    "    --checkpoint \\\n",
    "    \"/workspaces/multi-uav-sim/ray_results/train/PPO/multi-uav-ren-v0_2025-05-03-13-31_cc94735_4u_4o/final_train/final_train/PPO_multi-uav-ren-v0_6b51f_00000_0_early_done=False,max_dt_go_error=0.1000,max_dt_std=0.0500,sa_reward=50,stp_penalty=1,t_go_error_2025-05-03_13-31-17/checkpoint_000275/policies/shared_policy\" \\\n",
    "    --plot_results\n",
    "    # --use_vl\n",
    "    # --render  \\\n",
    "    # \"/home/dev/workspace/multi-uav-sim/ray_results/train/PPO/multi-uav-ren-v0_2025-05-01-14-39_7972eb6_4u_4o/cont_dt_go_pen/cont_dt_go_pen/PPO_multi-uav-ren-v0_90e46_00000_0_early_done=False,max_dt_go_error=0.1000,max_dt_std=0.0500,sa_reward=50,stp_penalty=1,t_go_error_2025-05-01_14-39-08/checkpoint_000230/policies/shared_policy\"  \\\n"
   ]
  },
  {
   "cell_type": "code",
   "execution_count": null,
   "id": "cd5c048a",
   "metadata": {},
   "outputs": [],
   "source": []
  }
 ],
 "metadata": {
  "colab": {
   "authorship_tag": "ABX9TyPl59hDO5ppNrWhMC8j9hvm",
   "include_colab_link": true,
   "provenance": []
  },
  "kernelspec": {
   "display_name": "Python 3",
   "language": "python",
   "name": "python3"
  },
  "language_info": {
   "codemirror_mode": {
    "name": "ipython",
    "version": 3
   },
   "file_extension": ".py",
   "mimetype": "text/x-python",
   "name": "python",
   "nbconvert_exporter": "python",
   "pygments_lexer": "ipython3",
   "version": "3.11.12"
  }
 },
 "nbformat": 4,
 "nbformat_minor": 5
}
