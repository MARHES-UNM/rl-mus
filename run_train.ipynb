{
 "cells": [
  {
   "cell_type": "markdown",
   "id": "13c0df36",
   "metadata": {},
   "source": [
    "<a href=\"https://colab.research.google.com/github/jepierre/multi-uav-sim/blob/fixing_rl_env/run_train.ipynb\" target=\"_parent\"><img src=\"https://colab.research.google.com/assets/colab-badge.svg\" alt=\"Open In Colab\"/></a>"
   ]
  },
  {
   "cell_type": "code",
   "execution_count": 1,
   "id": "8efce8c3",
   "metadata": {},
   "outputs": [],
   "source": [
    "import matplotlib.pyplot as plt\n",
    "import matplotlib\n",
    "%matplotlib inline"
   ]
  },
  {
   "cell_type": "code",
   "execution_count": 6,
   "id": "c5137877",
   "metadata": {},
   "outputs": [
    {
     "name": "stdout",
     "output_type": "stream",
     "text": [
      "/usr/lib/python3/dist-packages/scipy/__init__.py:146: UserWarning: A NumPy version >=1.17.3 and <1.25.0 is required for this version of SciPy (detected version 1.26.4\n",
      "  warnings.warn(f\"A NumPy version >={np_minversion} and <{np_maxversion}\"\n",
      "2025-05-06 23:27:01,107\tWARNING deprecation.py:50 -- DeprecationWarning: `DirectStepOptimizer` has been deprecated. This will raise an error in the future!\n",
      "2025-05-06 23:27:05 - __main__ - DEBUG - <run_experiment:main:730> - config: {'env_config': {'beta_vel': 0.1, 'beta': 0.1, 'crash_penalty': 10, 'early_done': False, 'max_dt_go_error': 0.1, 'max_dt_std': 0.1, 'max_num_obstacles': 4, 'max_start_dist': 3.9, 'max_time_penalty': 5, 'num_obstacles': 4, 'num_uavs': 4, 'obstacle_collision_weight': 1, 'obstacle_radius': 0.25, 'render': False, 'sa_reward': 50, 'seed': 123, 'start_level': 1, 'stp_penalty': 1, 't_go_error_func': 'mean', 't_go_max': 1.0, 't_go_n': 0.1, 'tgt_reward': 50, 'time_final': 8.0, 'uav_collision_weight': 1, 'uav_type': 'UavBase', 'use_safe_action': False, 'use_virtual_leader': False}, 'exp_config': {'run': 'PPO', 'checkpoint': None, 'safe_action_type': None, 'framework': 'torch', 'training': {'lr': 5e-05, 'use_gae': True, 'use_critic': True, 'lambda_': 0.95, 'gamma': 0.99}}, 'safety_layer_cfg': {'batch_size': 256, 'checkpoint_dir': None, 'device': 'cpu', 'episode_length': 400, 'eps': 0.01, 'eps_action': 0.00019, 'eps_dang': 0.05, 'eps_deriv': 4.2737e-05, 'eps_deriv_dang': 0.08, 'eps_deriv_mid': 0.03, 'eps_deriv_safe': 0.0, 'eps_safe': 0.001, 'loss_action_weight': 0.08, 'lr': 0.0005, 'n_hidden': 32, 'num_epochs': 200, 'num_eval_steps': 1500, 'num_iter_per_epoch': 1, 'num_training_steps': 6000, 'replay_buffer_size': 1000000, 'report_tune': False, 'seed': 123, 'tune_run': False, 'use_rl': False, 'weight_decay': 1e-05}, 'env_name': 'multi-uav-ren-v0'}\n",
      "******************seed: 1\n",
      "/nfs/student/j/jpierre/.local/lib/python3.10/site-packages/gymnasium/spaces/box.py:127: UserWarning: \u001b[33mWARN: Box bound precision lowered by casting to float32\u001b[0m\n",
      "  logger.warn(f\"Box bound precision lowered by casting to {self.dtype}\")\n",
      "2025-05-06 23:27:06,439\tWARNING algorithm_config.py:2558 -- Setting `exploration_config={}` because you set `_enable_rl_module_api=True`. When RLModule API are enabled, exploration_config can not be set. If you want to implement custom exploration behaviour, please modify the `forward_exploration` method of the RLModule at hand. On configs that have a default exploration config, this must be done with `config.exploration_config={}`.\n",
      "2025-05-06 23:27:06,465\tWARNING deprecation.py:50 -- DeprecationWarning: `ValueNetworkMixin` has been deprecated. This will raise an error in the future!\n",
      "2025-05-06 23:27:06,466\tWARNING deprecation.py:50 -- DeprecationWarning: `LearningRateSchedule` has been deprecated. This will raise an error in the future!\n",
      "2025-05-06 23:27:06,466\tWARNING deprecation.py:50 -- DeprecationWarning: `EntropyCoeffSchedule` has been deprecated. This will raise an error in the future!\n",
      "2025-05-06 23:27:06,466\tWARNING deprecation.py:50 -- DeprecationWarning: `KLCoeffMixin` has been deprecated. This will raise an error in the future!\n",
      "/nfs/student/student/j/jpierre/workspace/rl-mus/run_experiment.py:402: DeprecationWarning: `product` is deprecated as of NumPy 1.25.0, and will be removed in NumPy 2.0. Please use `prod` instead.\n",
      "  prep = get_preprocessor(env_obs_space)(env_obs_space)\n",
      "2025-05-06 23:27:06 - __main__ - DEBUG - <run_experiment:experiment:468> - running experiment\n",
      "^C\n",
      "Traceback (most recent call last):\n",
      "  File \"/nfs/student/student/j/jpierre/workspace/rl-mus/run_experiment.py\", line 753, in <module>\n",
      "    main()\n",
      "  File \"/nfs/student/student/j/jpierre/workspace/rl-mus/run_experiment.py\", line 749, in main\n",
      "    args.func(args)\n",
      "  File \"/nfs/student/student/j/jpierre/workspace/rl-mus/run_experiment.py\", line 368, in test\n",
      "    experiment(args.config, max_num_episodes, experiment_num)\n",
      "  File \"/nfs/student/student/j/jpierre/workspace/rl-mus/run_experiment.py\", line 515, in experiment\n",
      "    env.render()\n",
      "  File \"/nfs/student/student/j/jpierre/workspace/rl-mus/uav_sim/envs/uav_sim.py\", line 1055, in render\n",
      "    self.gui.update(self._time_elapsed, done, obs, rew, info, plot_results)\n",
      "  File \"/nfs/student/student/j/jpierre/workspace/rl-mus/uav_sim/utils/gui.py\", line 465, in update\n",
      "    plt.pause(0.0000000000001)\n",
      "  File \"/usr/lib/python3/dist-packages/matplotlib/pyplot.py\", line 546, in pause\n",
      "    canvas.draw_idle()\n",
      "  File \"/usr/lib/python3/dist-packages/matplotlib/backend_bases.py\", line 2060, in draw_idle\n",
      "    self.draw(*args, **kwargs)\n",
      "  File \"/usr/lib/python3/dist-packages/matplotlib/backends/backend_agg.py\", line 436, in draw\n",
      "    self.figure.draw(self.renderer)\n",
      "  File \"/usr/lib/python3/dist-packages/matplotlib/artist.py\", line 73, in draw_wrapper\n",
      "    result = draw(artist, renderer, *args, **kwargs)\n",
      "  File \"/usr/lib/python3/dist-packages/matplotlib/artist.py\", line 50, in draw_wrapper\n",
      "    return draw(artist, renderer)\n",
      "  File \"/usr/lib/python3/dist-packages/matplotlib/figure.py\", line 2801, in draw\n",
      "    self.execute_constrained_layout(renderer)\n",
      "  File \"/usr/lib/python3/dist-packages/matplotlib/figure.py\", line 3159, in execute_constrained_layout\n",
      "    return do_constrained_layout(fig, renderer, h_pad, w_pad,\n",
      "  File \"/usr/lib/python3/dist-packages/matplotlib/_constrained_layout.py\", line 110, in do_constrained_layout\n",
      "    make_layout_margins(layoutgrids, fig, renderer, h_pad=h_pad,\n",
      "  File \"/usr/lib/python3/dist-packages/matplotlib/_constrained_layout.py\", line 313, in make_layout_margins\n",
      "    pos, bbox = get_pos_and_bbox(ax, renderer)\n",
      "  File \"/usr/lib/python3/dist-packages/matplotlib/_constrained_layout.py\", line 544, in get_pos_and_bbox\n",
      "    tightbbox = ax.get_tightbbox(renderer=renderer, for_layout_only=True)\n",
      "  File \"/usr/lib/python3/dist-packages/mpl_toolkits/mplot3d/axes3d.py\", line 3362, in get_tightbbox\n",
      "    axis_bb = axis.get_tightbbox(\n",
      "  File \"/usr/lib/python3/dist-packages/mpl_toolkits/mplot3d/axis3d.py\", line 497, in get_tightbbox\n",
      "    return mtransforms.Bbox.union([*bb_1, *bb_2, *other])\n",
      "  File \"/usr/lib/python3/dist-packages/matplotlib/transforms.py\", line 670, in union\n",
      "    y1 = np.max([bbox.ymax for bbox in bboxes])\n",
      "  File \"/usr/lib/python3/dist-packages/matplotlib/transforms.py\", line 670, in <listcomp>\n",
      "    y1 = np.max([bbox.ymax for bbox in bboxes])\n",
      "  File \"/usr/lib/python3/dist-packages/matplotlib/transforms.py\", line 344, in ymax\n",
      "    return np.max(self.get_points()[:, 1])\n",
      "  File \"/nfs/student/j/jpierre/.local/lib/python3.10/site-packages/numpy/core/fromnumeric.py\", line 2810, in max\n",
      "    return _wrapreduction(a, np.maximum, 'max', axis, None, out,\n",
      "KeyboardInterrupt\n"
     ]
    }
   ],
   "source": [
    "    # --run cc \\\n",
    "    # --early_done \\\n",
    "# \"/workspaces/multi-uav-sim/ray_results/train/PPO/multi-uav-ren-v0_2025-05-03-13-31_cc94735_4u_4o/final_train/final_train/PPO_multi-uav-ren-v0_6b51f_00000_0_early_done=False,max_dt_go_error=0.1000,max_dt_std=0.0500,sa_reward=50,stp_penalty=1,t_go_error_2025-05-03_13-31-17/checkpoint_000275/policies/shared_policy\" \\\n",
    "!python run_experiment.py \\\n",
    "    --tf 8 \\\n",
    "    --run PPO \\\n",
    "    test \\\n",
    "    --seed \"1\" \\\n",
    "    --max_num_episodes 10 \\\n",
    "    --checkpoint \\\n",
    "    \"/nfs/student/student/j/jpierre/workspace/rl-mus/ray_results/train/PPO/multi-uav-ren-v0_2025-05-06-08-37_bfdaa8d_4u_4o/long_train/long_train/PPO_multi-uav-ren-v0_9fdac_00000_0_early_done=True,max_dt_go_error=0.1000,max_dt_std=0.0500,sa_reward=100,stp_penalty=1,t_go_error_2025-05-06_08-37-23/checkpoint_000905/policies/shared_policy\" \\\n",
    "    --render\n",
    "# --plot_results\n",
    "    # --use_vl\n",
    "    # --render  \\\n",
    "    # \"/home/dev/workspace/multi-uav-sim/ray_results/train/PPO/multi-uav-ren-v0_2025-05-01-14-39_7972eb6_4u_4o/cont_dt_go_pen/cont_dt_go_pen/PPO_multi-uav-ren-v0_90e46_00000_0_early_done=False,max_dt_go_error=0.1000,max_dt_std=0.0500,sa_reward=50,stp_penalty=1,t_go_error_2025-05-01_14-39-08/checkpoint_000230/policies/shared_policy\"  \\\n"
   ]
  },
  {
   "cell_type": "code",
   "execution_count": 3,
   "id": "cd5c048a",
   "metadata": {},
   "outputs": [
    {
     "name": "stdout",
     "output_type": "stream",
     "text": [
      "/nfs/student/student/j/jpierre/workspace/rl-mus\n"
     ]
    }
   ],
   "source": [
    "!pwd\n"
   ]
  },
  {
   "cell_type": "code",
   "execution_count": null,
   "id": "5ef6d39b-a8fc-4e27-9195-0719803bf350",
   "metadata": {},
   "outputs": [],
   "source": []
  }
 ],
 "metadata": {
  "colab": {
   "authorship_tag": "ABX9TyPl59hDO5ppNrWhMC8j9hvm",
   "include_colab_link": true,
   "provenance": []
  },
  "kernelspec": {
   "display_name": "Python 3 (ipykernel)",
   "language": "python",
   "name": "python3"
  },
  "language_info": {
   "codemirror_mode": {
    "name": "ipython",
    "version": 3
   },
   "file_extension": ".py",
   "mimetype": "text/x-python",
   "name": "python",
   "nbconvert_exporter": "python",
   "pygments_lexer": "ipython3",
   "version": "3.10.12"
  }
 },
 "nbformat": 4,
 "nbformat_minor": 5
}
